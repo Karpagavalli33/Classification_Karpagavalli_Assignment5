{
 "cells": [
  {
   "cell_type": "code",
   "execution_count": 48,
   "id": "be9d1887",
   "metadata": {},
   "outputs": [],
   "source": [
    "import pickle\n",
    "import pandas as pd"
   ]
  },
  {
   "cell_type": "code",
   "execution_count": 49,
   "id": "82a3b037",
   "metadata": {},
   "outputs": [],
   "source": [
    "dataset=pd.read_csv(\"CKD.csv\")"
   ]
  },
  {
   "cell_type": "code",
   "execution_count": 50,
   "id": "0d072df2",
   "metadata": {},
   "outputs": [],
   "source": [
    "dataset=pd.get_dummies(dataset,drop_first=True,dtype=int)"
   ]
  },
  {
   "cell_type": "code",
   "execution_count": 51,
   "id": "7715101e",
   "metadata": {},
   "outputs": [
    {
     "data": {
      "text/plain": [
       "Index(['age', 'bp', 'al', 'su', 'bgr', 'bu', 'sc', 'sod', 'pot', 'hrmo', 'pcv',\n",
       "       'wc', 'rc', 'sg_b', 'sg_c', 'sg_d', 'sg_e', 'rbc_normal', 'pc_normal',\n",
       "       'pcc_present', 'ba_present', 'htn_yes', 'dm_yes', 'cad_yes',\n",
       "       'appet_yes', 'pe_yes', 'ane_yes', 'classification_yes'],\n",
       "      dtype='object')"
      ]
     },
     "execution_count": 51,
     "metadata": {},
     "output_type": "execute_result"
    }
   ],
   "source": [
    "dataset.columns"
   ]
  },
  {
   "cell_type": "code",
   "execution_count": 52,
   "id": "df39bf92",
   "metadata": {},
   "outputs": [],
   "source": [
    "indep=dataset[['age', 'bp', 'al', 'su', 'bgr', 'bu', 'sc', 'sod', 'pot', 'hrmo', 'pcv',\n",
    "       'wc', 'rc', 'sg_b', 'sg_c', 'sg_d', 'sg_e', 'rbc_normal', 'pc_normal',\n",
    "       'pcc_present', 'ba_present', 'htn_yes', 'dm_yes', 'cad_yes',\n",
    "       'appet_yes', 'pe_yes', 'ane_yes']]"
   ]
  },
  {
   "cell_type": "code",
   "execution_count": 53,
   "id": "9d82a7f2",
   "metadata": {},
   "outputs": [],
   "source": [
    "dep=dataset[['classification_yes']]"
   ]
  },
  {
   "cell_type": "code",
   "execution_count": 54,
   "id": "28d0b8db",
   "metadata": {},
   "outputs": [],
   "source": [
    "from sklearn.model_selection import train_test_split\n",
    "X_train,X_test,y_train,y_test=train_test_split(indep,dep,test_size=1/3,random_state = 0)"
   ]
  },
  {
   "cell_type": "code",
   "execution_count": 55,
   "id": "adfe813a",
   "metadata": {},
   "outputs": [],
   "source": [
    "from sklearn.preprocessing import StandardScaler\n",
    "sc=StandardScaler()\n",
    "X_train=sc.fit_transform(X_train)\n",
    "X_test=sc.transform(X_test)"
   ]
  },
  {
   "cell_type": "code",
   "execution_count": 56,
   "id": "63efc3a3",
   "metadata": {},
   "outputs": [
    {
     "name": "stdout",
     "output_type": "stream",
     "text": [
      "Al:90\n",
      "Sugar:90\n",
      "bgr:90\n",
      "bu:90\n",
      "sc:90\n",
      "sod:90\n",
      "pot:90\n",
      "hrmo:12\n",
      "pcv:12\n",
      "wc:12\n",
      "rc:12\n",
      "sg_b_0_or_1:1\n",
      "sg_c_0_or_1:0\n",
      "sg_d_0_or_1:0\n",
      "sg_e_0_or_1:0\n",
      "rbc_normal_0_or_1:1\n",
      "pc_normal_0_or_1:2\n",
      "pcc_present_0_or_1:1\n",
      "ba_present_0_or_1:1\n",
      "htn_yes_0_or_1:1\n",
      "dm_yes_0_or_1:1\n",
      "cad_yes_0_or_1:1\n",
      "appet_yes_0_or_1:1\n",
      "pe_yes_0_or_1:1\n",
      "ane_yes_0_or_1:1\n"
     ]
    }
   ],
   "source": [
    "al=int(input(\"Al:\"))\n",
    "su=int(input(\"Sugar:\"))\n",
    "bgr=float(input(\"bgr:\"))\n",
    "bu=float(input(\"bu:\"))\n",
    "sc=float(input(\"sc:\"))\n",
    "Sod=float(input(\"sod:\"))\n",
    "pot=float(input(\"pot:\"))\n",
    "hrmo=float(input(\"hrmo:\"))\n",
    "pcv=float(input(\"pcv:\"))\n",
    "wc=float(input(\"wc:\"))\n",
    "rc=float(input(\"rc:\"))\n",
    "sg_b=int(input(\"sg_b_0_or_1:\"))\n",
    "sg_c=int(input(\"sg_c_0_or_1:\"))\n",
    "sg_d=int(input(\"sg_d_0_or_1:\"))\n",
    "sg_e=int(input(\"sg_e_0_or_1:\"))\n",
    "rbc_normal=int(input(\"rbc_normal_0_or_1:\"))\n",
    "pc_normal=int(input(\"pc_normal_0_or_1:\"))\n",
    "pcc_present=int(input(\"pcc_present_0_or_1:\"))\n",
    "ba_present=int(input(\"ba_present_0_or_1:\"))\n",
    "htn_yes=int(input(\"htn_yes_0_or_1:\"))\n",
    "dm_yes=int(input(\"dm_yes_0_or_1:\"))\n",
    "cad_yes=int(input(\"cad_yes_0_or_1:\"))\n",
    "appet_yes=int(input(\"appet_yes_0_or_1:\"))\n",
    "pe_yes=int(input(\"pe_yes_0_or_1:\"))\n",
    "ane_yes=int(input(\"ane_yes_0_or_1:\"))"
   ]
  },
  {
   "cell_type": "code",
   "execution_count": 57,
   "id": "5d661577",
   "metadata": {},
   "outputs": [],
   "source": [
    "loaded_model=pickle.load(open(\"Finalized_model_Gradient.sav\",'rb'))\n",
    "result=loaded_model.predict([[age, bp, al, su, bgr, bu, sc, Sod, pot, hrmo, pcv,wc, rc, sg_b, sg_c, sg_d,sg_e, rbc_normal,pc_normal,pcc_present, ba_present, htn_yes, dm_yes, cad_yes,appet_yes, pe_yes, ane_yes]])"
   ]
  },
  {
   "cell_type": "code",
   "execution_count": 58,
   "id": "9417085a",
   "metadata": {},
   "outputs": [
    {
     "data": {
      "text/plain": [
       "array([1])"
      ]
     },
     "execution_count": 58,
     "metadata": {},
     "output_type": "execute_result"
    }
   ],
   "source": [
    "result"
   ]
  },
  {
   "cell_type": "code",
   "execution_count": null,
   "id": "1eb6473b",
   "metadata": {},
   "outputs": [],
   "source": []
  }
 ],
 "metadata": {
  "kernelspec": {
   "display_name": "Python 3 (ipykernel)",
   "language": "python",
   "name": "python3"
  },
  "language_info": {
   "codemirror_mode": {
    "name": "ipython",
    "version": 3
   },
   "file_extension": ".py",
   "mimetype": "text/x-python",
   "name": "python",
   "nbconvert_exporter": "python",
   "pygments_lexer": "ipython3",
   "version": "3.11.5"
  }
 },
 "nbformat": 4,
 "nbformat_minor": 5
}
